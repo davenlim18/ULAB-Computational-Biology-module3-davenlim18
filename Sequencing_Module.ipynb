{
 "cells": [
  {
   "cell_type": "markdown",
   "metadata": {
    "id": "Tw0WH81zUHCD"
   },
   "source": [
    "## Introduction ##\n",
    "Welcome to the sequencing technologies module! In lecture this week, we talked about some of the most common sequencing methods (e.g. Sanger, Illumina) and the steps you may need to take to process or cleanup sequencing data. \n",
    "\n",
    "In this module, we'll be exploring a sample FASTQ file and conducting some basic analyses. Our goal is to get the gene count from a file containing sequencing data. Make sure to run all of the cells!"
   ]
  },
  {
   "cell_type": "markdown",
   "metadata": {
    "id": "23FvwVKGV3nF"
   },
   "source": [
    "## Setup ##\n",
    "We'll need [Biopython](https://biopython.org), a set of computational biology and bioinformatics tools for Python. Biopython includes handy tools for sequence alignment, structural biology analyses, and more. If you want Biopython on your local machine and you already have Python installed, try running `pip install biopython`. \n",
    "\n",
    "Run the cell below to import useful libraries."
   ]
  },
  {
   "cell_type": "code",
   "execution_count": 1,
   "metadata": {
    "colab": {
     "base_uri": "https://localhost:8080/"
    },
    "id": "XPgdvvebTqrl",
    "outputId": "69e40f79-2672-41da-8e64-d492b221ba8e"
   },
   "outputs": [],
   "source": [
    "#import some other handy data analysis tools\n",
    "import pandas as pd\n",
    "import numpy as np\n",
    "import matplotlib.pyplot as plt"
   ]
  },
  {
   "cell_type": "markdown",
   "metadata": {
    "id": "Ljdyy0uhWWBB"
   },
   "source": [
    "## Part 1: Sequencing Data - FASTQ Files ##\n",
    "As mentioned in lecture, FASTQ files are a file format used to store sequences data and PHRED quality scores. We've provided a sample FASTQ file called `s_cere_reads.fastq` (RNA-seq reads from the yeast *S. cerevisiae*). Let's look at the first record, which stores data for one read. As a reminder, this is what the lines in a FASTQ file mean: ![Fastq](fastq.png)\n"
   ]
  },
  {
   "cell_type": "code",
   "execution_count": 2,
   "metadata": {
    "colab": {
     "base_uri": "https://localhost:8080/"
    },
    "id": "SzovSSzZ3CeE",
    "outputId": "2fef31e6-cf88-47f0-bc51-784962ab004d"
   },
   "outputs": [
    {
     "name": "stdout",
     "output_type": "stream",
     "text": [
      "@M00653:24:000000000-AG1GY:1:2101:17850:8963 1:N:0:2\n",
      "\n",
      "TTTTTTTTCATCAGCTTCTCTTTTAGGCCGTCGGCCCCGTTCGATGTTCACCCGTCCTGGACAGCTTGCTCTCCC\n",
      "\n",
      "+\n",
      "\n",
      "CCCCCGGGGGGGGGGGGGGGGGGGGDEFGGGGGGGGGGGGGGGGGGGGGGCFFGGDCGGGFGGGGGGGGGFGGGG\n",
      "\n"
     ]
    }
   ],
   "source": [
    "with open('s_cere_reads.fastq', 'r') as f:\n",
    "  for i in range(4):\n",
    "    print(f.readline())"
   ]
  },
  {
   "cell_type": "markdown",
   "metadata": {
    "id": "-PgdyXO_0R3V"
   },
   "source": [
    "Now, we're curious how many records are in this file. \n",
    "\n",
    "`SeqIO.parse()` returns an iterator of `SeqRecord` objects. Biopython uses an iterator instead of an array or set when reading files due to potentially large file sizes. FASTQ and FASTA files can go up to the GB range! Luckily, our FASTQ file isn't huge and we can safely store all the objects in an array.\n",
    "\n",
    "**QUESTION 1**: How many records are in this file? Play with the cell below to find out. \n",
    "\n",
    "Your answer here: 85046"
   ]
  },
  {
   "cell_type": "code",
   "execution_count": 3,
   "metadata": {
    "id": "M-iGY4Pwl1yd"
   },
   "outputs": [
    {
     "name": "stdout",
     "output_type": "stream",
     "text": [
      "85046\n"
     ]
    }
   ],
   "source": [
    "from Bio import SeqIO\n",
    "from Bio import AlignIO\n",
    "\n",
    "# Add code to this cell to find out how many records are in the file!\n",
    "records = []\n",
    "records_iter = SeqIO.parse('s_cere_reads.fastq', \"fastq\")\n",
    "for record in records_iter:\n",
    "  # Don't change this line! We're adding all elements of the \n",
    "  # iterator into an array we can work with.\n",
    "  records.append(record)\n",
    "count = len(records) #(*hint* the len() function might be useful!)\n",
    "print(count) #UNCOMMENT this line when you have your count variable"
   ]
  },
  {
   "cell_type": "markdown",
   "metadata": {
    "id": "yZlezo0ctqUH"
   },
   "source": [
    "Now we have all our records Let's peek at the first element to see what a `SeqRecord` object looks like."
   ]
  },
  {
   "cell_type": "code",
   "execution_count": 4,
   "metadata": {
    "colab": {
     "base_uri": "https://localhost:8080/"
    },
    "id": "5QhxHEJwT_pF",
    "outputId": "e5d48165-7905-46b8-8c61-d0e51f46f25e"
   },
   "outputs": [
    {
     "name": "stdout",
     "output_type": "stream",
     "text": [
      "ID: M00653:24:000000000-AG1GY:1:2101:17850:8963\n",
      "Name: M00653:24:000000000-AG1GY:1:2101:17850:8963\n",
      "Description: M00653:24:000000000-AG1GY:1:2101:17850:8963 1:N:0:2\n",
      "Number of features: 0\n",
      "Per letter annotation for: phred_quality\n",
      "Seq('TTTTTTTTCATCAGCTTCTCTTTTAGGCCGTCGGCCCCGTTCGATGTTCACCCG...CCC')\n"
     ]
    }
   ],
   "source": [
    "rec_0 = records[0]\n",
    "print(rec_0)"
   ]
  },
  {
   "cell_type": "markdown",
   "metadata": {
    "id": "Xdfx-uf12EES"
   },
   "source": [
    "## Part 2: Quality Control ##\n",
    "One of the first steps after obtaining sequencing data is usually quality control. No sequencing method is perfect, and we want to know if we can be confident in our data.\n",
    "\n",
    "Let's look at the PHRED quality scores of the first record. The PHRED quality scores of a `SeqRecord` object can be accessed with `.letter_annotations[\"phred_quality\"]`."
   ]
  },
  {
   "cell_type": "code",
   "execution_count": 5,
   "metadata": {
    "colab": {
     "base_uri": "https://localhost:8080/"
    },
    "id": "fCoo0pNy3Sks",
    "outputId": "9787fd67-1f98-4744-eb49-2d2cd51cb258"
   },
   "outputs": [
    {
     "name": "stdout",
     "output_type": "stream",
     "text": [
      "[34, 34, 34, 34, 34, 38, 38, 38, 38, 38, 38, 38, 38, 38, 38, 38, 38, 38, 38, 38, 38, 38, 38, 38, 38, 35, 36, 37, 38, 38, 38, 38, 38, 38, 38, 38, 38, 38, 38, 38, 38, 38, 38, 38, 38, 38, 38, 38, 38, 38, 34, 37, 37, 38, 38, 35, 34, 38, 38, 38, 37, 38, 38, 38, 38, 38, 38, 38, 38, 38, 37, 38, 38, 38, 38]\n"
     ]
    }
   ],
   "source": [
    "phred_scores = rec_0.letter_annotations[\"phred_quality\"]\n",
    "print(phred_scores)"
   ]
  },
  {
   "cell_type": "markdown",
   "metadata": {
    "id": "ih5wRer23f9w"
   },
   "source": [
    "**QUESTION 2a**: What is the average PHRED quality score of all the bases in `rec_0`? Look back at the table provided in lecture, what is the approximate accuracy of this read data?"
   ]
  },
  {
   "cell_type": "code",
   "execution_count": 6,
   "metadata": {
    "id": "vtKYGBzP3T9O"
   },
   "outputs": [
    {
     "name": "stdout",
     "output_type": "stream",
     "text": [
      "37.45333333333333\n"
     ]
    }
   ],
   "source": [
    "mean = sum(phred_scores) / len(phred_scores)\n",
    "print(mean)"
   ]
  },
  {
   "cell_type": "markdown",
   "metadata": {
    "id": "1opVsduR61pI"
   },
   "source": [
    "Q2A Answer Here: The average PHRED quality score is 37.45333333333333. This means a probability of incorrect base call of better than 1 in 1000 and worse than 1 in 10000. The approximate accuracy is between 99.9% and 99.99%. "
   ]
  },
  {
   "cell_type": "markdown",
   "metadata": {
    "id": "kX-moTUjxlCR"
   },
   "source": [
    "Getting the average of the data only tells us one part of the story. Now, we will create a histogram of the PHRED scores so we can see a distribution of the data! "
   ]
  },
  {
   "cell_type": "code",
   "execution_count": 7,
   "metadata": {
    "colab": {
     "base_uri": "https://localhost:8080/",
     "height": 265
    },
    "id": "psSJNYJW0G8o",
    "outputId": "d405e475-d4d4-49f8-c214-e109dbfc8f98"
   },
   "outputs": [
    {
     "data": {
      "image/png": "[encoded data removed]",
      "text/plain": [
       "<Figure size 640x480 with 1 Axes>"
      ]
     },
     "metadata": {},
     "output_type": "display_data"
    }
   ],
   "source": [
    "plt.style.use('ggplot')\n",
    "plt.hist(phred_scores, bins=5)\n",
    "plt.show()"
   ]
  },
  {
   "cell_type": "markdown",
   "metadata": {
    "id": "5A7Uc0w06Y9c"
   },
   "source": [
    "**QUESTION 2b**: Please describe the distribution here. Is it normal, is it skewed, etc.? Also, describe the range and if you think this data is low quality, medium quality, or high quality and why?"
   ]
  },
  {
   "cell_type": "markdown",
   "metadata": {
    "id": "-J3V1qNb6uD-"
   },
   "source": [
    "Q2B Answer here: The distribution is left-skewed. The range is from 34.0 to 38.0. The data is of low quality as there could be higher precision to the accuracies."
   ]
  },
  {
   "cell_type": "markdown",
   "metadata": {
    "id": "vXxdHlZG67xC"
   },
   "source": [
    "# Read Trimming"
   ]
  },
  {
   "cell_type": "markdown",
   "metadata": {
    "id": "BKph7UQJ7TNS"
   },
   "source": [
    "As mentioned in lecture, the next step after quality control is to trim the reads that are not up to par with our quality levels. Usually, this consists of reads that have a PHRED score of 20 or below. Since our records do not have a PHRED score of less than 20 as seen from the histogram, we will move on from this step for now. Note that we've just looked at one of the reads; in real applications you'll want to filter all reads."
   ]
  },
  {
   "cell_type": "markdown",
   "metadata": {
    "id": "vmD2OKhj3MGu"
   },
   "source": [
    "**QUESTION 2c**: Write code that loops over all of the records, finds the average PHRED score in each record, and plots the averages as a histogram. What observations can you make about the average PHRED scores? (Note that since you're looping over 25,000 records, your code might take some time to run)"
   ]
  },
  {
   "cell_type": "code",
   "execution_count": 8,
   "metadata": {
    "id": "3oTBYy_y3ifv"
   },
   "outputs": [
    {
     "data": {
      "image/png": "[encoded data removed]",
      "text/plain": [
       "<Figure size 640x480 with 1 Axes>"
      ]
     },
     "metadata": {},
     "output_type": "display_data"
    }
   ],
   "source": [
    "# 1) Loop over all records\n",
    "\n",
    "# 2) Find the average PHRED score in each record\n",
    "\n",
    "# 3) Plot the averages as histogram\n",
    "\n",
    "# Write your code here!\n",
    "means = []\n",
    "for record in records:\n",
    "    phred_scores = record.letter_annotations[\"phred_quality\"]\n",
    "    mean = sum(phred_scores) / len(phred_scores)\n",
    "    means.append(mean)\n",
    "\n",
    "plt.style.use('ggplot')\n",
    "plt.hist(phred_scores, bins=5)\n",
    "plt.show()"
   ]
  },
  {
   "cell_type": "markdown",
   "metadata": {
    "id": "R8_X5QOV3n5x"
   },
   "source": [
    "Q2C Answer here: The average PHRED scores have a mode of between 37.2 and 38.0. There are no average scores from 34.8 to 36.4. "
   ]
  },
  {
   "cell_type": "markdown",
   "metadata": {
    "id": "ySLtVoFg7_gR"
   },
   "source": [
    "# Data Exploration"
   ]
  },
  {
   "cell_type": "markdown",
   "metadata": {
    "id": "XBpoDqQY8DFO"
   },
   "source": [
    "Before we move on to alignment, let's convert our fastq file to the FASTA format to analyze and understand the data we're dealing with more."
   ]
  },
  {
   "cell_type": "code",
   "execution_count": 9,
   "metadata": {
    "colab": {
     "base_uri": "https://localhost:8080/"
    },
    "id": "Bc8Iiq078LMK",
    "outputId": "987e18d1-482e-4a9c-8e7c-0635a1431f75"
   },
   "outputs": [
    {
     "name": "stdout",
     "output_type": "stream",
     "text": [
      "Converted 85046 records\n"
     ]
    }
   ],
   "source": [
    "from Bio import SeqIO\n",
    "with open(\"s_cere_reads.fastq\", \"r\") as input_handle, open(\"s_cere_reads.fasta\", \"w\") as output_handle:\n",
    "    sequences = SeqIO.parse(input_handle, \"fastq\")        \n",
    "    count = SeqIO.write(sequences, output_handle, \"fasta\")        \n",
    "print(\"Converted %i records\" % count)"
   ]
  },
  {
   "cell_type": "markdown",
   "metadata": {
    "id": "mjNKFNHN87gb"
   },
   "source": [
    "Now that we have our file in FASTA format under the name `s_cere_reads.fasta`, let's explore some basic genome properties of our first read."
   ]
  },
  {
   "cell_type": "code",
   "execution_count": 10,
   "metadata": {
    "id": "Rm66h3qC9FO0"
   },
   "outputs": [],
   "source": [
    "records_fa = []\n",
    "records_iter_fa = SeqIO.parse('s_cere_reads.fasta', \"fasta\")\n",
    "for record in records_iter_fa:\n",
    "  # Don't change this line! We're adding all elements of the \n",
    "  # iterator into an array we can work with.\n",
    "  records_fa.append(record)"
   ]
  },
  {
   "cell_type": "code",
   "execution_count": 11,
   "metadata": {
    "colab": {
     "base_uri": "https://localhost:8080/"
    },
    "id": "DOSiydO_9ruf",
    "outputId": "a174b7f7-4403-4fff-a5ea-45b159f70e87"
   },
   "outputs": [
    {
     "name": "stdout",
     "output_type": "stream",
     "text": [
      "ID: M00653:24:000000000-AG1GY:1:2101:17850:8963\n",
      "Name: M00653:24:000000000-AG1GY:1:2101:17850:8963\n",
      "Description: M00653:24:000000000-AG1GY:1:2101:17850:8963 1:N:0:2\n",
      "Number of features: 0\n",
      "Per letter annotation for: phred_quality\n",
      "Seq('TTTTTTTTCATCAGCTTCTCTTTTAGGCCGTCGGCCCCGTTCGATGTTCACCCG...CCC')\n"
     ]
    }
   ],
   "source": [
    "rec_1 = records[0]\n",
    "print(rec_1)"
   ]
  },
  {
   "cell_type": "code",
   "execution_count": 12,
   "metadata": {
    "colab": {
     "base_uri": "https://localhost:8080/"
    },
    "id": "-I0o1k8n91QG",
    "outputId": "cae5b4e7-28e8-41dd-b85c-189725c5724b"
   },
   "outputs": [
    {
     "name": "stdout",
     "output_type": "stream",
     "text": [
      "TTTTTTTTCATCAGCTTCTCTTTTAGGCCGTCGGCCCCGTTCGATGTTCACCCGTCCTGGACAGCTTGCTCTCCC\n"
     ]
    }
   ],
   "source": [
    "print(rec_1.seq)"
   ]
  },
  {
   "cell_type": "code",
   "execution_count": 13,
   "metadata": {
    "colab": {
     "base_uri": "https://localhost:8080/"
    },
    "id": "ULBPlotT98G-",
    "outputId": "7217eb82-5f32-44b8-cb91-371c6ddd0043"
   },
   "outputs": [
    {
     "name": "stdout",
     "output_type": "stream",
     "text": [
      "Sequence length (bp) 75\n"
     ]
    }
   ],
   "source": [
    "print(\"Sequence length (bp)\", len(rec_1))"
   ]
  },
  {
   "cell_type": "markdown",
   "metadata": {
    "id": "BeO-a81e-Fsv"
   },
   "source": [
    "As you can see this read has a sequence length of ~75bp which means it is a short read. This means that when aligning, we now know to use an aligner that is best for short-reads. \n",
    "\n",
    "***Note***: For now, we have looked at only 1 read, a more accurate representation would be to create a histogram of sequence length for each read so we can get an idea for the average read length rather than from a single record."
   ]
  },
  {
   "cell_type": "markdown",
   "metadata": {
    "id": "rJ0tLT5l7jjj"
   },
   "source": [
    "## Part 3: Alignment"
   ]
  },
  {
   "cell_type": "markdown",
   "metadata": {
    "id": "rqjoXOco7qlu"
   },
   "source": [
    "Alright, now that we have explored our data and have come to the conclusion that we have a short-read sequencing set, we will move on to aligning our data to a reference genome! As mentioned in lecture, aligning reads is like putting puzzle pieces together according to a reference picture. The other option we could take is to do assembly, however that is much more time-consuming and best used if we do not have a reference genome. \n",
    "\n",
    "Our reference genome will be the `S. cerevisiae` genome. As for our aligner, we will be using `Bowtie2`, as this is very efficient for short-read alignment."
   ]
  },
  {
   "cell_type": "markdown",
   "metadata": {
    "id": "TLhuR2hTCRkV"
   },
   "source": [
    "In order for `Bowtie2` to work, we need to provide it with trimmed reads files and an *index* of the reference genome. We have included this index in the files with this module; you can download indices for other organisms in the sidebar of [Bowtie2's website](http://bowtie-bio.sourceforge.net/bowtie2/index.shtml).\n"
   ]
  },
  {
   "cell_type": "code",
   "execution_count": 14,
   "metadata": {
    "colab": {
     "base_uri": "https://localhost:8080/"
    },
    "id": "EtCaIvLEFTZe",
    "outputId": "6a04a420-4b95-43dc-d595-f6ed606669ec"
   },
   "outputs": [
    {
     "name": "stdout",
     "output_type": "stream",
     "text": [
      "85046 reads; of these:\r\n",
      "  85046 (100.00%) were unpaired; of these:\r\n",
      "    14286 (16.80%) aligned 0 times\r\n",
      "    62158 (73.09%) aligned exactly 1 time\r\n",
      "    8602 (10.11%) aligned >1 times\r\n",
      "83.20% overall alignment rate\r\n"
     ]
    }
   ],
   "source": [
    "# The following line runs the Bowtie2 command\n",
    "# Bowtie2 is preinstalled on the biology datahub computer.\n",
    "!bowtie2 -x s_cere/s_cere -U s_cere_reads.fastq -S output.sam"
   ]
  },
  {
   "cell_type": "markdown",
   "metadata": {
    "id": "S_sCV9_sLemJ"
   },
   "source": [
    "Let's take apart that command piece-by-piece:\n",
    "- First, we used the `!` symbol. This is a Jupyter-specific symbol (i.e. it won't work in regular Python) that allows us to run commands *on the command line*. Bowtie2 is an executable program that's usually run from a command line.\n",
    "- The `-x s_cere/s_cere` portion tells Bowtie2 the location of the *indices* which it uses to align reads. These are in the form of `.bt2` files, which are included in a folder imported with this module.\n",
    "- The `-U s_cere_reads.fastq` portion tells Bowtie2 the location of the FASTQ file we've been using.\n",
    "- The `-S output.sam` portion tells Bowtie2 the name we want to give to the output SAM file. This is a type of file often used to represent alignments.\n",
    "\n",
    "Note also in the output the number of alignments. You should have a high overall alignment rate; unusually low rates may indicate an error, such as low-quality reads or an incorrect index\n",
    "\n",
    "Let's take a look at this SAM file:"
   ]
  },
  {
   "cell_type": "code",
   "execution_count": 15,
   "metadata": {
    "colab": {
     "base_uri": "https://localhost:8080/"
    },
    "id": "Ac8oAJt9GR1R",
    "outputId": "eb20586a-b1fe-4aba-f6fe-961904f2d401"
   },
   "outputs": [
    {
     "name": "stdout",
     "output_type": "stream",
     "text": [
      "@HD\tVN:1.0\tSO:unsorted\n",
      "\n",
      "@SQ\tSN:I\tLN:230218\n",
      "\n",
      "@SQ\tSN:II\tLN:813184\n",
      "\n",
      "@SQ\tSN:III\tLN:316620\n",
      "\n",
      "@SQ\tSN:IV\tLN:1531933\n",
      "\n",
      "@SQ\tSN:IX\tLN:439888\n",
      "\n",
      "@SQ\tSN:MT\tLN:85779\n",
      "\n",
      "@SQ\tSN:V\tLN:576874\n",
      "\n",
      "@SQ\tSN:VI\tLN:270161\n",
      "\n",
      "@SQ\tSN:VII\tLN:1090940\n",
      "\n",
      "@SQ\tSN:VIII\tLN:562643\n",
      "\n",
      "@SQ\tSN:X\tLN:745751\n",
      "\n",
      "@SQ\tSN:XI\tLN:666816\n",
      "\n",
      "@SQ\tSN:XII\tLN:1078177\n",
      "\n",
      "@SQ\tSN:XIII\tLN:924431\n",
      "\n",
      "@SQ\tSN:XIV\tLN:784333\n",
      "\n",
      "@SQ\tSN:XV\tLN:1091291\n",
      "\n",
      "@SQ\tSN:XVI\tLN:948066\n",
      "\n",
      "@PG\tID:bowtie2\tPN:bowtie2\tVN:2.4.2\tCL:\"/opt/conda/bin/bowtie2-align-s --wrapper basic-0 -x s_cere/s_cere -S output.sam -U s_cere_reads.fastq\"\n",
      "\n",
      "M00653:24:000000000-AG1GY:1:2101:17850:8963\t0\tX\t360915\t42\t75M\t*\t0\t0\tTTTTTTTTCATCAGCTTCTCTTTTAGGCCGTCGGCCCCGTTCGATGTTCACCCGTCCTGGACAGCTTGCTCTCCC\tCCCCCGGGGGGGGGGGGGGGGGGGGDEFGGGGGGGGGGGGGGGGGGGGGGCFFGGDCGGGFGGGGGGGGGFGGGG\tAS:i:0\tXN:i:0\tXM:i:0\tXO:i:0\tXG:i:0\tNM:i:0\tMD:Z:75\tYT:Z:UU\n",
      "\n",
      "M00653:24:000000000-AG1GY:1:2101:17858:9022\t16\tIX\t414575\t42\t75M\t*\t0\t0\tATCTTTTGTTAAAATATCAGCTACAGTAGTTTTGGAAGGTTCAAATTGAGGAGTCGTGTCGATGTCCGCGTATAG\tGGGGGGGGGGGGGGGGGGGGGGGGGGGGGGGGGGGGGGGGGGGGGGGGGGGGGGGGGGGGGGGGGGGGGGCCCCC\tAS:i:-5\tXN:i:0\tXM:i:1\tXO:i:0\tXG:i:0\tNM:i:1\tMD:Z:66T8\tYT:Z:UU\n",
      "\n",
      "M00653:24:000000000-AG1GY:1:2101:15365:2631\t16\tXV\t762207\t42\t75M\t*\t0\t0\tTTATTAATAGTAGGTTCCGCATAGGGAAAAAACGAGGGCGCCAAAAAACGTTGGGCCTGAACCGGACTCTGAAAC\tGGFFGGDGGGGGGGGGGGGGGFEGGGGGFGGGGGGGGGGGGGGGGGGGGGGDGGGGGGGGGGGGGGGGGGCCCCC\tAS:i:0\tXN:i:0\tXM:i:0\tXO:i:0\tXG:i:0\tNM:i:0\tMD:Z:75\tYT:Z:UU\n",
      "\n",
      "M00653:24:000000000-AG1GY:1:2101:15352:2640\t0\tXIII\t450195\t42\t75M\t*\t0\t0\tGTATAACGGTCTCATACACAATGCTTGTGTCGCTGGGACTATCGTTTTTTGATCTCCTCCATCCTACAACAGTGG\tCCCCCGGGGGGGFCFGGGGGGGGCGGGG8FF@@CFGGDGFFADFGGFEFG:7ECEDFA@<FDGG9E,C9CF<F9C\tAS:i:-3\tXN:i:0\tXM:i:1\tXO:i:0\tXG:i:0\tNM:i:1\tMD:Z:66A8\tYT:Z:UU\n",
      "\n",
      "M00653:24:000000000-AG1GY:1:2101:15339:2666\t16\tX\t226089\t42\t75M\t*\t0\t0\tAGCTGACATCGAGGTAAGAAAATCATTAAATGAAAGAGATTTTGGAGTCTTCGCTGCAGATTCTTGTGTTAAAGG\tGGGGGGGGGGGGGGGGGGGGGGGGGGGGGGGGGGGGGGGGGGGGGGGGGGGGGGGGGGGGGGGGGGGGGGCCCCC\tAS:i:-5\tXN:i:0\tXM:i:1\tXO:i:0\tXG:i:0\tNM:i:1\tMD:Z:26C48\tYT:Z:UU\n",
      "\n",
      "M00653:24:000000000-AG1GY:1:2101:15340:2633\t0\tVII\t333863\t42\t75M\t*\t0\t0\tGGATGCAGAGTGTGCATTAAATGATTTGATAGTACGATTCGATGTTGGATCTAGCAAATCCACAGTCCCTGTTTG\tCCCCCGGGFG<EEEFFGGFGGGGFGGGGGFGGGGGGGGGGGGFGGGGGGGGGGGGDGGGGGGGGGFGCFAFGFGG\tAS:i:0\tXN:i:0\tXM:i:0\tXO:i:0\tXG:i:0\tNM:i:0\tMD:Z:75\tYT:Z:UU\n",
      "\n"
     ]
    }
   ],
   "source": [
    "with open(\"output.sam\", 'r') as f:\n",
    "  for i in range(25):\n",
    "    print(f.readline())"
   ]
  },
  {
   "cell_type": "markdown",
   "metadata": {
    "id": "F_6rZLA6OZK4"
   },
   "source": [
    "We can see that this file starts off with several lines of metadata, followed by a tab-separated table. You may recognize some of the fields of the table from the FASTQ files; to learn more about the SAM format for storing alignments, you can look at the [file specification](http://samtools.github.io/hts-specs/). "
   ]
  },
  {
   "cell_type": "markdown",
   "metadata": {
    "id": "7QAgSjzdywo9"
   },
   "source": [
    "**QUESTION 3**: According to the specification, what do the columns in the table represent? What does the first line in the header mean?"
   ]
  },
  {
   "cell_type": "markdown",
   "metadata": {
    "id": "w6k3d29yy-0-"
   },
   "source": [
    "Q3 Answer here: The columns in the table represent QNAME (Query template NAME), FLAG (bitwise FLAG), RNAME (Reference sequence NAME), POS (1-based leftmost mapping POSition), MAPQ (MAPping Quality), CIGAR (CIGAR string), RNEXT (Reference name of the mate/next read), PNEXT (Position of the mate/next read), TLEN (observed Template LENgth), SEQ (segment SEQuence), QUAL (ASCII of Phred-scaled base QUALity+33). The first line in the header means \"File-level metadata. Optional. If present, there must be only one @HD line and it must be the f irst line of the file. File-level metadata. \" @HD\tVN:1.0\tSO:unsorted means the version is 1.0."
   ]
  },
  {
   "cell_type": "markdown",
   "metadata": {
    "id": "WX4ogt9FzBCj"
   },
   "source": [
    "# Part 4: Gene Counts"
   ]
  },
  {
   "cell_type": "markdown",
   "metadata": {
    "id": "zPs5EBB20V0G"
   },
   "source": [
    "Now that we've produced an alignment, the next step is to count each of the reads mapping to each gene. To do this, we will need two things:\n",
    "1. An alignment, which we have as the SAM file output from Bowtie2.\n",
    "2. A genome annotation file. The most commonly used file type is a GFF file (you may also see a GTF file; these are identical to version 2 of the GFF specification). These files contain information about the start and end position of each gene, as well as other annotations. \n",
    "\n",
    "In our case, we've provided the file `sacCer3.ensGene.gtf` for genome annotations of the *S. cerevisiae* genome, which was downloaded from the [UCSC Genome Browser page](http://hgdownload.soe.ucsc.edu/downloads.html). Let's see what this file looks like:"
   ]
  },
  {
   "cell_type": "code",
   "execution_count": 16,
   "metadata": {
    "colab": {
     "base_uri": "https://localhost:8080/"
    },
    "id": "R4eiTufa2W0R",
    "outputId": "e0f432cc-f6fd-42cc-d5be-fd13fc5f627d"
   },
   "outputs": [
    {
     "name": "stdout",
     "output_type": "stream",
     "text": [
      "chrIV\tensGene.v101\ttranscript\t1802\t2953\t.\t+\t.\tgene_id \"YDL248W\"; transcript_id \"YDL248W_mRNA\";  gene_name \"YDL248W\";\n",
      "\n",
      "chrIV\tensGene.v101\texon\t1802\t2953\t.\t+\t.\tgene_id \"YDL248W\"; transcript_id \"YDL248W_mRNA\"; exon_number \"1\"; exon_id \"YDL248W_mRNA.1\"; gene_name \"YDL248W\";\n",
      "\n",
      "chrIV\tensGene.v101\tCDS\t1802\t2950\t.\t+\t0\tgene_id \"YDL248W\"; transcript_id \"YDL248W_mRNA\"; exon_number \"1\"; exon_id \"YDL248W_mRNA.1\"; gene_name \"YDL248W\";\n",
      "\n",
      "chrIV\tensGene.v101\tstart_codon\t1802\t1804\t.\t+\t0\tgene_id \"YDL248W\"; transcript_id \"YDL248W_mRNA\"; exon_number \"1\"; exon_id \"YDL248W_mRNA.1\"; gene_name \"YDL248W\";\n",
      "\n",
      "chrIV\tensGene.v101\tstop_codon\t2951\t2953\t.\t+\t0\tgene_id \"YDL248W\"; transcript_id \"YDL248W_mRNA\"; exon_number \"1\"; exon_id \"YDL248W_mRNA.1\"; gene_name \"YDL248W\";\n",
      "\n"
     ]
    }
   ],
   "source": [
    "with open(\"sacCer3.ensGene.gtf\") as f:\n",
    "  for i in range(5):\n",
    "    print(f.readline())"
   ]
  },
  {
   "cell_type": "markdown",
   "metadata": {
    "id": "c7Yi9GQF2oh2"
   },
   "source": [
    "We can see that we have another tab-delimited table of values."
   ]
  },
  {
   "cell_type": "markdown",
   "metadata": {
    "id": "7iZpk2nv22Uu"
   },
   "source": [
    "**QUESTION 4a**: Look up the GTF file specification. What do each of the columns mean? What does the first line of the annotation mean?"
   ]
  },
  {
   "cell_type": "markdown",
   "metadata": {
    "id": "sGj5ZF5v3HVI"
   },
   "source": [
    "Q4a Answer here: The columns mean:\n",
    "seqname (name of the chromosome or scaffold; chromosome names can be given with or without the 'chr' prefix.), source (name of the program that generated this feature, or the data source (database or project name)), feature (feature type name), start (Start position of the feature, with sequence numbering starting at 1.), end (End position of the feature, with sequence numbering starting at 1.), score (A floating point value.), strand ( defined as + (forward) or - (reverse).), frame (One of '0', '1' or '2'. '0' indicates that the first base of the feature is the first base of a codon, '1' that the second base is the first base of a codon, and so on..), attribute (attribute - A semicolon-separated list of tag-value pairs, providing additional information about each feature.). The first line of annotation means the gene id. "
   ]
  },
  {
   "cell_type": "markdown",
   "metadata": {
    "id": "6xPu4zcb3I91"
   },
   "source": [
    "In order to find gene counts, we'll be using the package `HTSeq`. We can install the package with the line below:"
   ]
  },
  {
   "cell_type": "code",
   "execution_count": 17,
   "metadata": {
    "colab": {
     "base_uri": "https://localhost:8080/"
    },
    "id": "XRL0I2e13-Ey",
    "outputId": "d818bdfa-24c8-4a77-857d-f75a17b02093"
   },
   "outputs": [
    {
     "name": "stdout",
     "output_type": "stream",
     "text": [
      "Requirement already satisfied: pysam in /opt/conda/lib/python3.9/site-packages (0.20.0)\n",
      "Collecting htseq\n",
      "  Using cached HTSeq-2.0.2-cp39-cp39-manylinux_2_17_x86_64.manylinux2014_x86_64.whl (1.9 MB)\n",
      "Requirement already satisfied: numpy in /opt/conda/lib/python3.9/site-packages (from htseq) (1.22.4)\n",
      "Installing collected packages: htseq\n",
      "Successfully installed htseq-2.0.2\n"
     ]
    }
   ],
   "source": [
    "!pip install pysam htseq"
   ]
  },
  {
   "cell_type": "markdown",
   "metadata": {
    "id": "W1bFaD2f4EWz"
   },
   "source": [
    "`HTSeq` is once again run from the command line; we can run it with our files as follows:"
   ]
  },
  {
   "cell_type": "code",
   "execution_count": 18,
   "metadata": {
    "colab": {
     "base_uri": "https://localhost:8080/"
    },
    "id": "DNIRj5mR4JWT",
    "outputId": "c86744c6-ab14-4d1a-b057-ee943d7dcc56"
   },
   "outputs": [
    {
     "name": "stdout",
     "output_type": "stream",
     "text": [
      "34755 GFF lines processed.\n",
      "85046 alignment records processed.\n"
     ]
    }
   ],
   "source": [
    "!htseq-count output.sam sacCer3.ensGene.gtf > s_cere_counts.tsv"
   ]
  },
  {
   "cell_type": "markdown",
   "metadata": {
    "id": "ENq0srsY8DGm"
   },
   "source": [
    "In this command, the program we are running is `htseq-count`. The two arguments are our alignment (`output.sam`) and the annotation (`sacCer3.ensGene.gtf`). We then use a *redirect character* (`>`) to send the output of the command to a file, `s_cere_counts.tsv`.\n",
    "\n",
    "We can view the contents of this TSV file as follows:"
   ]
  },
  {
   "cell_type": "code",
   "execution_count": 19,
   "metadata": {
    "colab": {
     "base_uri": "https://localhost:8080/"
    },
    "id": "tN113Ekm8aQO",
    "outputId": "a7b3a459-d209-4f27-80a2-80eeefe9af4d"
   },
   "outputs": [
    {
     "name": "stdout",
     "output_type": "stream",
     "text": [
      "ETS1-1\t0\n",
      "\n",
      "ETS1-2\t0\n",
      "\n",
      "ETS2-1\t0\n",
      "\n",
      "ETS2-2\t0\n",
      "\n",
      "HRA1\t0\n",
      "\n"
     ]
    }
   ],
   "source": [
    "with open(\"s_cere_counts.tsv\") as f:\n",
    "  for i in range(5):\n",
    "    print(f.readline())"
   ]
  },
  {
   "cell_type": "markdown",
   "metadata": {
    "id": "JxaRBQGn9ZWG"
   },
   "source": [
    "This file has two columns: the first is the gene name, and the second is the count for that gene. "
   ]
  },
  {
   "cell_type": "markdown",
   "metadata": {
    "id": "fqPyO6gz9tkg"
   },
   "source": [
    "**QUESTION 4b**: Use pandas to read in the count data (*hint:* remember the `pd.read_csv()` function) and make a barplot for the genes that have nonzero counts. What do you notice about the output, and why might this be the case?"
   ]
  },
  {
   "cell_type": "code",
   "execution_count": 20,
   "metadata": {
    "id": "dyilKL7G92EM"
   },
   "outputs": [
    {
     "data": {
      "text/html": [
       "<div>\n",
       "<style scoped>\n",
       "    .dataframe tbody tr th:only-of-type {\n",
       "        vertical-align: middle;\n",
       "    }\n",
       "\n",
       "    .dataframe tbody tr th {\n",
       "        vertical-align: top;\n",
       "    }\n",
       "\n",
       "    .dataframe thead th {\n",
       "        text-align: right;\n",
       "    }\n",
       "</style>\n",
       "<table border=\"1\" class=\"dataframe\">\n",
       "  <thead>\n",
       "    <tr style=\"text-align: right;\">\n",
       "      <th></th>\n",
       "      <th>ETS1-1</th>\n",
       "      <th>0</th>\n",
       "    </tr>\n",
       "  </thead>\n",
       "  <tbody>\n",
       "    <tr>\n",
       "      <th>0</th>\n",
       "      <td>ETS1-2</td>\n",
       "      <td>0</td>\n",
       "    </tr>\n",
       "    <tr>\n",
       "      <th>1</th>\n",
       "      <td>ETS2-1</td>\n",
       "      <td>0</td>\n",
       "    </tr>\n",
       "    <tr>\n",
       "      <th>2</th>\n",
       "      <td>ETS2-2</td>\n",
       "      <td>0</td>\n",
       "    </tr>\n",
       "    <tr>\n",
       "      <th>3</th>\n",
       "      <td>HRA1</td>\n",
       "      <td>0</td>\n",
       "    </tr>\n",
       "    <tr>\n",
       "      <th>4</th>\n",
       "      <td>ICR1</td>\n",
       "      <td>0</td>\n",
       "    </tr>\n",
       "    <tr>\n",
       "      <th>...</th>\n",
       "      <td>...</td>\n",
       "      <td>...</td>\n",
       "    </tr>\n",
       "    <tr>\n",
       "      <th>7126</th>\n",
       "      <td>__no_feature</td>\n",
       "      <td>59088</td>\n",
       "    </tr>\n",
       "    <tr>\n",
       "      <th>7127</th>\n",
       "      <td>__ambiguous</td>\n",
       "      <td>0</td>\n",
       "    </tr>\n",
       "    <tr>\n",
       "      <th>7128</th>\n",
       "      <td>__too_low_aQual</td>\n",
       "      <td>11672</td>\n",
       "    </tr>\n",
       "    <tr>\n",
       "      <th>7129</th>\n",
       "      <td>__not_aligned</td>\n",
       "      <td>14286</td>\n",
       "    </tr>\n",
       "    <tr>\n",
       "      <th>7130</th>\n",
       "      <td>__alignment_not_unique</td>\n",
       "      <td>0</td>\n",
       "    </tr>\n",
       "  </tbody>\n",
       "</table>\n",
       "<p>7131 rows × 2 columns</p>\n",
       "</div>"
      ],
      "text/plain": [
       "                      ETS1-1      0\n",
       "0                     ETS1-2      0\n",
       "1                     ETS2-1      0\n",
       "2                     ETS2-2      0\n",
       "3                       HRA1      0\n",
       "4                       ICR1      0\n",
       "...                      ...    ...\n",
       "7126            __no_feature  59088\n",
       "7127             __ambiguous      0\n",
       "7128         __too_low_aQual  11672\n",
       "7129           __not_aligned  14286\n",
       "7130  __alignment_not_unique      0\n",
       "\n",
       "[7131 rows x 2 columns]"
      ]
     },
     "execution_count": 20,
     "metadata": {},
     "output_type": "execute_result"
    }
   ],
   "source": [
    "df = pd.read_csv(\"s_cere_counts.tsv\", sep = '\\t')\n",
    "df\n",
    "\n",
    "# df['ETS1-1']\n",
    "\n",
    "# sep = \"\t\""
   ]
  },
  {
   "cell_type": "code",
   "execution_count": 21,
   "metadata": {},
   "outputs": [
    {
     "data": {
      "text/html": [
       "<div>\n",
       "<style scoped>\n",
       "    .dataframe tbody tr th:only-of-type {\n",
       "        vertical-align: middle;\n",
       "    }\n",
       "\n",
       "    .dataframe tbody tr th {\n",
       "        vertical-align: top;\n",
       "    }\n",
       "\n",
       "    .dataframe thead th {\n",
       "        text-align: right;\n",
       "    }\n",
       "</style>\n",
       "<table border=\"1\" class=\"dataframe\">\n",
       "  <thead>\n",
       "    <tr style=\"text-align: right;\">\n",
       "      <th></th>\n",
       "      <th>ETS1-1</th>\n",
       "      <th>0</th>\n",
       "    </tr>\n",
       "  </thead>\n",
       "  <tbody>\n",
       "    <tr>\n",
       "      <th>7126</th>\n",
       "      <td>__no_feature</td>\n",
       "      <td>59088</td>\n",
       "    </tr>\n",
       "    <tr>\n",
       "      <th>7128</th>\n",
       "      <td>__too_low_aQual</td>\n",
       "      <td>11672</td>\n",
       "    </tr>\n",
       "    <tr>\n",
       "      <th>7129</th>\n",
       "      <td>__not_aligned</td>\n",
       "      <td>14286</td>\n",
       "    </tr>\n",
       "  </tbody>\n",
       "</table>\n",
       "</div>"
      ],
      "text/plain": [
       "               ETS1-1      0\n",
       "7126     __no_feature  59088\n",
       "7128  __too_low_aQual  11672\n",
       "7129    __not_aligned  14286"
      ]
     },
     "execution_count": 21,
     "metadata": {},
     "output_type": "execute_result"
    }
   ],
   "source": [
    "rslt_df = df[df['0'] != 0]\n",
    "rslt_df"
   ]
  },
  {
   "cell_type": "code",
   "execution_count": 22,
   "metadata": {},
   "outputs": [
    {
     "data": {
      "image/png": "[encoded data removed]",
      "text/plain": [
       "<Figure size 640x480 with 1 Axes>"
      ]
     },
     "metadata": {},
     "output_type": "display_data"
    }
   ],
   "source": [
    "import matplotlib.pyplot as plt\n",
    "\n",
    "plt.bar(rslt_df['ETS1-1'], rslt_df['0'])\n",
    "plt.show()"
   ]
  },
  {
   "cell_type": "markdown",
   "metadata": {},
   "source": [
    "Q4b Answer here: There are many with no features, and some have too low qualities or not aligned. There are many genes with 0 counts. The gene names might not match."
   ]
  },
  {
   "cell_type": "markdown",
   "metadata": {},
   "source": [
    "Congrats on finishing this module!"
   ]
  },
  {
   "cell_type": "code",
   "execution_count": null,
   "metadata": {},
   "outputs": [],
   "source": []
  },
  {
   "cell_type": "code",
   "execution_count": null,
   "metadata": {},
   "outputs": [],
   "source": []
  }
 ],
 "metadata": {
  "colab": {
   "collapsed_sections": [],
   "name": "Sequencing_Module.ipynb",
   "provenance": [],
   "toc_visible": true
  },
  "kernelspec": {
   "display_name": "Python 3 (ipykernel)",
   "language": "python",
   "name": "python3"
  },
  "language_info": {
   "codemirror_mode": {
    "name": "ipython",
    "version": 3
   },
   "file_extension": ".py",
   "mimetype": "text/x-python",
   "name": "python",
   "nbconvert_exporter": "python",
   "pygments_lexer": "ipython3",
   "version": "3.9.15"
  }
 },
 "nbformat": 4,
 "nbformat_minor": 1
}
